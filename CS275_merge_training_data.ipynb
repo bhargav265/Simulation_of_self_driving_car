{
 "cells": [
  {
   "cell_type": "code",
   "execution_count": 32,
   "metadata": {
    "collapsed": true
   },
   "outputs": [],
   "source": [
    "import pandas as pd\n",
    "import numpy as np\n",
    "import os\n",
    "import shutil"
   ]
  },
  {
   "cell_type": "code",
   "execution_count": 44,
   "metadata": {
    "collapsed": true
   },
   "outputs": [],
   "source": [
    "csv_files_to_merge = [\"driving_log_12.csv\", \"driving_log_13.csv\", \"driving_log_14.csv\", \"driving_log_jungle_5.csv\", \"driving_log_jungle_6.csv\", \"driving_log_jungle_7.csv\"]\n",
    "img_files_to_merge = [\"IMG_12\", \"IMG_13\", \"IMG_14\", \"IMG_jungle_5\", \"IMG_jungle_6\", \"IMG_jungle_7\"]\n",
    "csv_destination = \"CS275_training_data_merged/driving_log.csv\"\n",
    "img_destination = \"CS275_training_data_merged/IMG\""
   ]
  },
  {
   "cell_type": "code",
   "execution_count": 45,
   "metadata": {
    "collapsed": true
   },
   "outputs": [],
   "source": [
    "def append_id(img_name, i):\n",
    "    return_val =  img_name[:-4] + \"_\" + str(i) + \".jpg\"\n",
    "    return return_val"
   ]
  },
  {
   "cell_type": "code",
   "execution_count": 46,
   "metadata": {},
   "outputs": [],
   "source": [
    "csv_df_all = []\n",
    "csv_filename = csv_files_to_merge[0]\n",
    "csv_df_merged = pd.read_csv(csv_filename)\n",
    "for i in range(1,len(csv_files_to_merge)):\n",
    "    csv_filename = csv_files_to_merge[i]\n",
    "    csv_df = pd.read_csv(csv_filename)\n",
    "    csv_df_merged.append(csv_df, ignore_index=True)\n",
    "    \n",
    "center_col = csv_df_merged['a']\n",
    "i = 0\n",
    "center_str_all = []\n",
    "for row in center_col:\n",
    "    center_str_all.append(append_id(row, i))\n",
    "    i = i + 1\n",
    "center_df = pd.DataFrame(np.array(center_str_all), columns=['a'])\n",
    "csv_df_merged['a'] = center_df\n",
    "\n",
    "right_col = csv_df_merged['b']\n",
    "i = 0\n",
    "right_str_all = []\n",
    "for row in right_col:\n",
    "    right_str_all.append(append_id(row, i))\n",
    "    i = i + 1\n",
    "right_df = pd.DataFrame(np.array(right_str_all), columns=['a'])\n",
    "csv_df_merged['b'] = right_df\n",
    "\n",
    "left_col = csv_df_merged['c']\n",
    "i = 0\n",
    "left_str_all = []\n",
    "for row in left_col:\n",
    "    left_str_all.append(append_id(row, i))\n",
    "    i = i + 1\n",
    "left_df = pd.DataFrame(np.array(left_str_all), columns=['a'])\n",
    "csv_df_merged['c'] = left_df\n",
    "\n",
    "#now write the dataframe to a file\n",
    "csv_df_merged.to_csv(\"./CS275_training_data_merged/driving_log.csv\")\n"
   ]
  },
  {
   "cell_type": "code",
   "execution_count": 47,
   "metadata": {},
   "outputs": [],
   "source": [
    "os.system(\"rm CS275_training_data_merged\\\\IMG\")\n",
    "os.system(\"mkdir CS275_training_data_merged\\\\IMG\")\n",
    "#os.system(\"rm -r ./CS275_training_data_merged/IMG\")\n",
    "#os.system(\"mkdir ./CS275_training_data_merged/IMG\")\n",
    "k = 0\n",
    "l = 0\n",
    "m = 0\n",
    "for i in range(len(img_files_to_merge)):\n",
    "    img_filenames = os.listdir(img_files_to_merge[i])\n",
    "    for j in range(len(img_filenames)):\n",
    "        in_filename = img_files_to_merge[i] + \"\\\\\" + img_filenames[j]\n",
    "        if(\"center\" in img_filenames[j]):\n",
    "            dest_filename = \"CS275_training_data_merged\\\\IMG\\\\\" + img_filenames[j][:-4] + \"_\" + str(k) + \".jpg\"\n",
    "            k = k + 1\n",
    "        elif(\"right\" in img_filenames[j]):\n",
    "            dest_filename = \"CS275_training_data_merged\\\\IMG\\\\\" + img_filenames[j][:-4] + \"_\" + str(l) + \".jpg\"\n",
    "            l = l + 1\n",
    "        elif(\"left\" in img_filenames[j]):\n",
    "            dest_filename = \"CS275_training_data_merged\\\\IMG\\\\\" + img_filenames[j][:-4] + \"_\" + str(m) + \".jpg\"\n",
    "            m = m + 1\n",
    "        shutil.copyfile(in_filename, dest_filename)\n"
   ]
  },
  {
   "cell_type": "code",
   "execution_count": null,
   "metadata": {
    "collapsed": true
   },
   "outputs": [],
   "source": []
  }
 ],
 "metadata": {
  "kernelspec": {
   "display_name": "Python 3",
   "language": "python",
   "name": "python3"
  },
  "language_info": {
   "codemirror_mode": {
    "name": "ipython",
    "version": 3
   },
   "file_extension": ".py",
   "mimetype": "text/x-python",
   "name": "python",
   "nbconvert_exporter": "python",
   "pygments_lexer": "ipython3",
   "version": "3.6.3"
  }
 },
 "nbformat": 4,
 "nbformat_minor": 2
}
